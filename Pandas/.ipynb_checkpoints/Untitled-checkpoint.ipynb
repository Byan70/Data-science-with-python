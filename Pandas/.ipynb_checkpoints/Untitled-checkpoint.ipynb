{
 "cells": [
  {
   "cell_type": "markdown",
   "id": "f16ee537",
   "metadata": {},
   "source": [
    "# Column Deletion"
   ]
  },
  {
   "cell_type": "code",
   "execution_count": 3,
   "id": "4516b8af",
   "metadata": {},
   "outputs": [],
   "source": [
    "#importing  Python module\n",
    "import pandas as pd"
   ]
  },
  {
   "cell_type": "code",
   "execution_count": 6,
   "id": "e5ca4ddc",
   "metadata": {},
   "outputs": [
    {
     "name": "stdout",
     "output_type": "stream",
     "text": [
      "                         Team  Number Position   Age Height  Weight  \\\n",
      "Name                                                                  \n",
      "Avery Bradley  Boston Celtics     0.0       PG  25.0    6-2   180.0   \n",
      "Jae Crowder    Boston Celtics    99.0       SF  25.0    6-6   235.0   \n",
      "John Holland   Boston Celtics    30.0       SG  27.0    6-5   205.0   \n",
      "R.J. Hunter    Boston Celtics    28.0       SG  22.0    6-5   185.0   \n",
      "Jonas Jerebko  Boston Celtics     8.0       PF  29.0   6-10   231.0   \n",
      "\n",
      "                         College     Salary  \n",
      "Name                                         \n",
      "Avery Bradley              Texas  7730337.0  \n",
      "Jae Crowder            Marquette  6796117.0  \n",
      "John Holland   Boston University        NaN  \n",
      "R.J. Hunter        Georgia State  1148640.0  \n",
      "Jonas Jerebko                NaN  5000000.0  \n"
     ]
    }
   ],
   "source": [
    "\n",
    "# making data frame from csv file\n",
    "nba = pd.read_csv(\"nba.csv\", index_col =\"Name\" )\n",
    "\n",
    "# display\n",
    "print(nba.head())\n"
   ]
  },
  {
   "cell_type": "markdown",
   "id": "fb021be6",
   "metadata": {},
   "source": [
    "### Method1: Column deletion using drop()\n",
    "\n",
    "- drop() method. Columns is deleted by dropping columns with column names."
   ]
  },
  {
   "cell_type": "code",
   "execution_count": null,
   "id": "4d1a54ab",
   "metadata": {},
   "outputs": [],
   "source": [
    "# dropping passed columns\n",
    "data.drop([\"Team\", \"Weight\"], axis = 1, inplace = True)\n",
    "\n",
    "n"
   ]
  }
 ],
 "metadata": {
  "kernelspec": {
   "display_name": "Python 3 (ipykernel)",
   "language": "python",
   "name": "python3"
  },
  "language_info": {
   "codemirror_mode": {
    "name": "ipython",
    "version": 3
   },
   "file_extension": ".py",
   "mimetype": "text/x-python",
   "name": "python",
   "nbconvert_exporter": "python",
   "pygments_lexer": "ipython3",
   "version": "3.11.5"
  }
 },
 "nbformat": 4,
 "nbformat_minor": 5
}
